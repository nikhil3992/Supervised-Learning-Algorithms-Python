{
 "cells": [
  {
   "cell_type": "code",
   "execution_count": 1,
   "metadata": {
    "collapsed": true
   },
   "outputs": [],
   "source": [
    "import csv\n",
    "import numpy as np\n",
    "from sklearn import linear_model\n",
    "import math\n",
    "from sklearn import metrics\n"
   ]
  },
  {
   "cell_type": "code",
   "execution_count": 3,
   "metadata": {
    "collapsed": false
   },
   "outputs": [
    {
     "name": "stdout",
     "output_type": "stream",
     "text": [
      "Accuracy on the Training Data set is :\n",
      "98.9537012817\n"
     ]
    }
   ],
   "source": [
    "# Reading the optdigits_raining.csv file as training file\n",
    "\n",
    "with open('optdigits_raining.csv') as trainingFile:\n",
    "    reader = csv.reader(trainingFile)\n",
    "    \n",
    "    # Declaring variables to store the data\n",
    "    # X is for storing the attributes and Y is for storing the labels \n",
    "    X = []\n",
    "    Y = []\n",
    "    \n",
    "    # Reading each line from the file and appending the data to X and Y\n",
    "    for row in reader:\n",
    "        X.append(row[:64])\n",
    "        Y.append(row[64])\n",
    "\n",
    "\n",
    "# Formatting the training data to fit the Linear classifier function\n",
    "for i in range(0,len(X)):\n",
    "    lst = X[i]\n",
    "    for j in range(0,len(lst)):\n",
    "        lst[j] = float(int(lst[j]))\n",
    "    X[i] = lst\n",
    "for i in range(0,len(Y)):\n",
    "    Y[i] = float(int(Y[i]))\n",
    "\n",
    "# Classifying the data using Linear Classifier \n",
    "clf = linear_model.LogisticRegression(C=1e5)\n",
    "# Using the fit function to fit the data\n",
    "clf = clf.fit(X,Y)\n",
    "\n",
    "# Predicting the output of training data using the Linear classifier\n",
    "output_Predicted = clf.predict(X);\n",
    "accuracy_training = metrics.accuracy_score(output_Predicted,Y)\n",
    "print(\"Accuracy on the Training Data set is :\")\n",
    "print(accuracy_training* 100)\n"
   ]
  },
  {
   "cell_type": "code",
   "execution_count": 4,
   "metadata": {
    "collapsed": false
   },
   "outputs": [
    {
     "name": "stdout",
     "output_type": "stream",
     "text": [
      "Accuracy on the Testing Dataset is : \n",
      "93.3222036728\n"
     ]
    }
   ],
   "source": [
    "#### Testing data set ####\n",
    "\n",
    "# Reading the optdigits_test.csv file as training file\n",
    "with open('optdigits_test.csv') as testingFile:\n",
    "    reader = csv.reader(testingFile)\n",
    "    \n",
    "    # Declaring variables to store the data\n",
    "    # X_test is for storing the attributes and Y_test is for storing the labels \n",
    "    X_test = []\n",
    "    Y_test = []\n",
    "    \n",
    "    # Reading each line from the file and appending the data to X and Y\n",
    "    for row in reader:\n",
    "        X_test.append(row[:64])\n",
    "        Y_test.append(row[64])\n",
    "        \n",
    "# Formatting the testing data to fit the Linear classifier function        \n",
    "for i in range(0,len(X_test)):\n",
    "    lst = X_test[i]\n",
    "    for j in range(0,len(lst)):\n",
    "        lst[j] = float(int(lst[j]))\n",
    "    X_test[i] = lst\n",
    "for j in range(0,len(Y_test)):\n",
    "    Y_test[j] = float(int(Y_test[j]))\n",
    "\n",
    "# Predicting the output of testing data using the classifier\n",
    "output_predicted_testing = clf.predict(X_test)\n",
    "accuracy_testing = metrics.accuracy_score(output_predicted_testing, Y_test)\n",
    "print(\"Accuracy on the Testing Dataset is : \")\n",
    "print(accuracy_testing*100)"
   ]
  },
  {
   "cell_type": "code",
   "execution_count": null,
   "metadata": {
    "collapsed": true
   },
   "outputs": [],
   "source": []
  }
 ],
 "metadata": {
  "kernelspec": {
   "display_name": "Python 3",
   "language": "python",
   "name": "python3"
  },
  "language_info": {
   "codemirror_mode": {
    "name": "ipython",
    "version": 3
   },
   "file_extension": ".py",
   "mimetype": "text/x-python",
   "name": "python",
   "nbconvert_exporter": "python",
   "pygments_lexer": "ipython3",
   "version": "3.6.0"
  }
 },
 "nbformat": 4,
 "nbformat_minor": 2
}
